{
 "cells": [
  {
   "cell_type": "markdown",
   "metadata": {},
   "source": [
    "# This is a comparison of Consumer Choice HSA and Comprehensive Care"
   ]
  },
  {
   "cell_type": "markdown",
   "metadata": {},
   "source": [
    "## 2023"
   ]
  },
  {
   "cell_type": "markdown",
   "metadata": {},
   "source": [
    "For Comprehensive Care:\n",
    "\n",
    "* For a number of items, there are copays and then 100% coverage after the copay, so how it will exactly fall out depends on what medical services are needed through the year. With HSA it's always 100\\% until deductible is met, and then 80\\%. With Comprehensive:\n",
    "    * Office visit is \\\\$20 copay (not subject to deductible)\n",
    "    * Health clinics \\\\$15 copay\n",
    "* For pharmacy, it also works with a copay, making it difficult to do a true comparison. Many medications are cheap, and some even under \\\\$5. But some are even over \\$100. With HSA it's always 100\\% until deductible is met, and then 80%. With Comprehensive:\n",
    "    * Generic: \\$15 copay\n",
    "    * Preferred Brand: 20\\% with \\\\$40 min and \\\\$100 max copay\n"
   ]
  },
  {
   "cell_type": "code",
   "execution_count": 3,
   "metadata": {},
   "outputs": [],
   "source": [
    "def cost(amount,months=12,premium=132,deductable=3000,maximum=3000,rate=0.15):\n",
    "    a = amount\n",
    "    t = months\n",
    "    p = premium\n",
    "    d = deductable\n",
    "    m = maximum\n",
    "    r = rate\n",
    "    base = t * p\n",
    "    if a < d:\n",
    "        c = a\n",
    "    else:\n",
    "        c = d + (a - d)*r \n",
    "        c = min(c,m)\n",
    "    return base + c"
   ]
  },
  {
   "cell_type": "code",
   "execution_count": 4,
   "metadata": {},
   "outputs": [],
   "source": [
    "def hsa(a):\n",
    "    return cost(a,months=12,\n",
    "                premium = 294.44,\n",
    "                deductable = 5000,\n",
    "                maximum = 9000,\n",
    "                rate = 0.20)\n",
    "\n",
    "def regular(a):\n",
    "    return cost(a,months=12,\n",
    "                premium = 624.88,\n",
    "                deductable = 3000,\n",
    "                maximum = 4500,\n",
    "                rate = 0.10)\n",
    "def blue_choice(a):\n",
    "    return cost(a,months=12,\n",
    "                premium = 729.82,\n",
    "                deductable = 0,\n",
    "                maximum = 9900,\n",
    "                rate = 0)\n",
    "def kaiser(a):\n",
    "    return cost(a,months=12,\n",
    "                premium = 548.84,\n",
    "                deductable = 0,\n",
    "                maximum = 12700,\n",
    "                rate = 0)   \n",
    "def reg_1_sick(a):\n",
    "    return cost(a,months=12,\n",
    "                premium = 624.88,\n",
    "                deductable = 1000,\n",
    "                maximum = 2250,\n",
    "                rate = 0.10)\n",
    "def reg_2_sick(a):\n",
    "    return cost(a,months=12,\n",
    "                premium = 624.88,\n",
    "                deductable = 2000,\n",
    "                maximum = 4500,\n",
    "                rate = 0.10)"
   ]
  },
  {
   "cell_type": "code",
   "execution_count": 5,
   "metadata": {},
   "outputs": [
    {
     "name": "stdout",
     "output_type": "stream",
     "text": [
      "     amnt\t      HSA\tComprehensive\tHSA savings\tsavings + card\n",
      "$     0.00\t$  3533.28\t$  7498.56\t$  3965.28\t$  4715.28\n",
      "$  1000.00\t$  4533.28\t$  8498.56\t$  3965.28\t$  4715.28\n",
      "$  2000.00\t$  5533.28\t$  9498.56\t$  3965.28\t$  4715.28\n",
      "$  3000.00\t$  6533.28\t$ 10498.56\t$  3965.28\t$  4715.28\n",
      "$  4000.00\t$  7533.28\t$ 10598.56\t$  3065.28\t$  3815.28\n",
      "$  5000.00\t$  8533.28\t$ 10698.56\t$  2165.28\t$  2915.28\n",
      "$  6000.00\t$  8733.28\t$ 10798.56\t$  2065.28\t$  2815.28\n",
      "$  7000.00\t$  8933.28\t$ 10898.56\t$  1965.28\t$  2715.28\n",
      "$  8000.00\t$  9133.28\t$ 10998.56\t$  1865.28\t$  2615.28\n",
      "$  9000.00\t$  9333.28\t$ 11098.56\t$  1765.28\t$  2515.28\n",
      "$ 10000.00\t$  9533.28\t$ 11198.56\t$  1665.28\t$  2415.28\n",
      "$ 11000.00\t$  9733.28\t$ 11298.56\t$  1565.28\t$  2315.28\n",
      "$ 12000.00\t$  9933.28\t$ 11398.56\t$  1465.28\t$  2215.28\n",
      "$ 13000.00\t$ 10133.28\t$ 11498.56\t$  1365.28\t$  2115.28\n",
      "$ 14000.00\t$ 10333.28\t$ 11598.56\t$  1265.28\t$  2015.28\n",
      "$ 15000.00\t$ 10533.28\t$ 11698.56\t$  1165.28\t$  1915.28\n",
      "$ 16000.00\t$ 10733.28\t$ 11798.56\t$  1065.28\t$  1815.28\n",
      "$ 17000.00\t$ 10933.28\t$ 11898.56\t$   965.28\t$  1715.28\n",
      "$ 18000.00\t$ 11133.28\t$ 11998.56\t$   865.28\t$  1615.28\n",
      "$ 19000.00\t$ 11333.28\t$ 11998.56\t$   665.28\t$  1415.28\n",
      "$ 20000.00\t$ 11533.28\t$ 11998.56\t$   465.28\t$  1215.28\n",
      "$ 21000.00\t$ 11733.28\t$ 11998.56\t$   265.28\t$  1015.28\n",
      "$ 22000.00\t$ 11933.28\t$ 11998.56\t$    65.28\t$   815.28\n",
      "$ 23000.00\t$ 12133.28\t$ 11998.56\t$  -134.72\t$   615.28\n",
      "$ 24000.00\t$ 12333.28\t$ 11998.56\t$  -334.72\t$   415.28\n"
     ]
    }
   ],
   "source": [
    "pt=\"%9s\\t%9s\\t%9s\\t%9s\\t%9s\"\n",
    "p=\"$%9.2f\\t$%9.2f\\t$%9.2f\\t$%9.2f\\t$%9.2f\"\n",
    "print(pt%(\"amnt\",\"HSA\",\"Comprehensive\",\"HSA savings\",\"savings + card\"))\n",
    "for a in range (0,25000,1000):\n",
    "    print (p%(a,hsa(a),regular(a),regular(a)-hsa(a),regular(a)-hsa(a)+750))"
   ]
  },
  {
   "cell_type": "code",
   "execution_count": 6,
   "metadata": {},
   "outputs": [
    {
     "name": "stdout",
     "output_type": "stream",
     "text": [
      "     amnt\t      HSA\tHSA savings\tsavings 1 sick\tsavings 2 sick\n",
      "$     0.00\t$  3533.28\t$  4715.28\t$  4715.28\t$  4715.28\n",
      "$  1000.00\t$  4533.28\t$  4715.28\t$  4715.28\t$  4715.28\n",
      "$  2000.00\t$  5533.28\t$  4715.28\t$  3815.28\t$  4715.28\n",
      "$  3000.00\t$  6533.28\t$  4715.28\t$  2915.28\t$  3815.28\n",
      "$  4000.00\t$  7533.28\t$  3815.28\t$  2015.28\t$  2915.28\n",
      "$  5000.00\t$  8533.28\t$  2915.28\t$  1115.28\t$  2015.28\n",
      "$  6000.00\t$  8733.28\t$  2815.28\t$  1015.28\t$  1915.28\n",
      "$  7000.00\t$  8933.28\t$  2715.28\t$   915.28\t$  1815.28\n",
      "$  8000.00\t$  9133.28\t$  2615.28\t$   815.28\t$  1715.28\n",
      "$  9000.00\t$  9333.28\t$  2515.28\t$   715.28\t$  1615.28\n",
      "$ 10000.00\t$  9533.28\t$  2415.28\t$   615.28\t$  1515.28\n",
      "$ 11000.00\t$  9733.28\t$  2315.28\t$   515.28\t$  1415.28\n",
      "$ 12000.00\t$  9933.28\t$  2215.28\t$   415.28\t$  1315.28\n",
      "$ 13000.00\t$ 10133.28\t$  2115.28\t$   315.28\t$  1215.28\n",
      "$ 14000.00\t$ 10333.28\t$  2015.28\t$   165.28\t$  1115.28\n",
      "$ 15000.00\t$ 10533.28\t$  1915.28\t$   -34.72\t$  1015.28\n",
      "$ 16000.00\t$ 10733.28\t$  1815.28\t$  -234.72\t$   915.28\n",
      "$ 17000.00\t$ 10933.28\t$  1715.28\t$  -434.72\t$   815.28\n",
      "$ 18000.00\t$ 11133.28\t$  1615.28\t$  -634.72\t$   715.28\n",
      "$ 19000.00\t$ 11333.28\t$  1415.28\t$  -834.72\t$   615.28\n",
      "$ 20000.00\t$ 11533.28\t$  1215.28\t$ -1034.72\t$   515.28\n",
      "$ 21000.00\t$ 11733.28\t$  1015.28\t$ -1234.72\t$   415.28\n",
      "$ 22000.00\t$ 11933.28\t$   815.28\t$ -1434.72\t$   315.28\n",
      "$ 23000.00\t$ 12133.28\t$   615.28\t$ -1634.72\t$   215.28\n",
      "$ 24000.00\t$ 12333.28\t$   415.28\t$ -1834.72\t$   115.28\n"
     ]
    }
   ],
   "source": [
    "pt=\"%9s\\t%9s\\t%9s\\t%9s\\t%9s\"\n",
    "p=\"$%9.2f\\t$%9.2f\\t$%9.2f\\t$%9.2f\\t$%9.2f\"\n",
    "print(pt%(\"amnt\",\"HSA\",\"HSA savings\",\"savings 1 sick\",\"savings 2 sick\"))\n",
    "for a in range (0,25000,1000):\n",
    "    print (p%(a,hsa(a),regular(a)-hsa(a)+750,reg_1_sick(a)-hsa(a)+750,reg_2_sick(a)-hsa(a)+750))"
   ]
  },
  {
   "cell_type": "code",
   "execution_count": 7,
   "metadata": {},
   "outputs": [
    {
     "name": "stdout",
     "output_type": "stream",
     "text": [
      "     amnt\tHSA w/ card\tComprehensive\tBlue Choice\t   Kaiser\n",
      "$     0.00\t$  2783.28\t$  7498.56\t$  8757.84\t$  6586.08\n",
      "$  1000.00\t$  3783.28\t$  8498.56\t$  8757.84\t$  6586.08\n",
      "$  2000.00\t$  4783.28\t$  9498.56\t$  8757.84\t$  6586.08\n",
      "$  3000.00\t$  5783.28\t$ 10498.56\t$  8757.84\t$  6586.08\n",
      "$  4000.00\t$  6783.28\t$ 10598.56\t$  8757.84\t$  6586.08\n",
      "$  5000.00\t$  7783.28\t$ 10698.56\t$  8757.84\t$  6586.08\n",
      "$  6000.00\t$  7983.28\t$ 10798.56\t$  8757.84\t$  6586.08\n",
      "$  7000.00\t$  8183.28\t$ 10898.56\t$  8757.84\t$  6586.08\n",
      "$  8000.00\t$  8383.28\t$ 10998.56\t$  8757.84\t$  6586.08\n",
      "$  9000.00\t$  8583.28\t$ 11098.56\t$  8757.84\t$  6586.08\n",
      "$ 10000.00\t$  8783.28\t$ 11198.56\t$  8757.84\t$  6586.08\n",
      "$ 11000.00\t$  8983.28\t$ 11298.56\t$  8757.84\t$  6586.08\n",
      "$ 12000.00\t$  9183.28\t$ 11398.56\t$  8757.84\t$  6586.08\n",
      "$ 13000.00\t$  9383.28\t$ 11498.56\t$  8757.84\t$  6586.08\n",
      "$ 14000.00\t$  9583.28\t$ 11598.56\t$  8757.84\t$  6586.08\n",
      "$ 15000.00\t$  9783.28\t$ 11698.56\t$  8757.84\t$  6586.08\n",
      "$ 16000.00\t$  9983.28\t$ 11798.56\t$  8757.84\t$  6586.08\n",
      "$ 17000.00\t$ 10183.28\t$ 11898.56\t$  8757.84\t$  6586.08\n",
      "$ 18000.00\t$ 10383.28\t$ 11998.56\t$  8757.84\t$  6586.08\n",
      "$ 19000.00\t$ 10583.28\t$ 11998.56\t$  8757.84\t$  6586.08\n",
      "$ 20000.00\t$ 10783.28\t$ 11998.56\t$  8757.84\t$  6586.08\n",
      "$ 21000.00\t$ 10983.28\t$ 11998.56\t$  8757.84\t$  6586.08\n",
      "$ 22000.00\t$ 11183.28\t$ 11998.56\t$  8757.84\t$  6586.08\n",
      "$ 23000.00\t$ 11383.28\t$ 11998.56\t$  8757.84\t$  6586.08\n",
      "$ 24000.00\t$ 11583.28\t$ 11998.56\t$  8757.84\t$  6586.08\n"
     ]
    }
   ],
   "source": [
    "pt=\"%9s\\t%9s\\t%9s\\t%9s\\t%9s\"\n",
    "p=\"$%9.2f\\t$%9.2f\\t$%9.2f\\t$%9.2f\\t$%9.2f\"\n",
    "print(pt%(\"amnt\",\"HSA w/ card\",\"Comprehensive\",\"Blue Choice\",\"Kaiser\"))\n",
    "for a in range (0,25000,1000):\n",
    "    print (p%(a,hsa(a)-750,regular(a),blue_choice(a),kaiser(a)))\n",
    "\n",
    "# Note: HMO co-pays are not taken into consideration on this table."
   ]
  },
  {
   "cell_type": "markdown",
   "metadata": {},
   "source": [
    "# 2021"
   ]
  },
  {
   "cell_type": "markdown",
   "metadata": {},
   "source": [
    "For Comprehensive Care:\n",
    "\n",
    "* For a number of items, there are copays and then 100% coverage after the copay, so how it will exactly fall out depends on what medical services are needed through the year. With HSA it's always 100\\% until deductible is met, and then 80\\%. With Comprehensive:\n",
    "    * Office visit is \\\\$20 copay (not subject to deductible)\n",
    "    * Health clinics \\\\$15 copay\n",
    "* For pharmacy, it also works with a copay, making it difficult to do a true comparison. Many medications are cheap, and some even under \\\\$5. But some are even over \\$100. With HSA it's always 100\\% until deductible is met, and then 80%. With Comprehensive:\n",
    "    * Generic: \\$15 copay\n",
    "    * Preferred Brand: 20\\% with \\\\$40 min and \\\\$100 max copay\n"
   ]
  },
  {
   "cell_type": "code",
   "execution_count": 3,
   "metadata": {},
   "outputs": [],
   "source": [
    "def cost(amount,months=12,premium=132,deductable=3000,maximum=3000,rate=0.15):\n",
    "    a = amount\n",
    "    t = months\n",
    "    p = premium\n",
    "    d = deductable\n",
    "    m = maximum\n",
    "    r = rate\n",
    "    base = t * p\n",
    "    if a < d:\n",
    "        c = a\n",
    "    else:\n",
    "        c = d + (a - d)*r \n",
    "        c = min(c,m)\n",
    "    return base + c"
   ]
  },
  {
   "cell_type": "code",
   "execution_count": 9,
   "metadata": {},
   "outputs": [],
   "source": [
    "def hsa(a):\n",
    "    return cost(a,months=12,\n",
    "                premium = 283.18,\n",
    "                deductable = 4400,\n",
    "                maximum = 7400,\n",
    "                rate = 0.20)\n",
    "\n",
    "def regular(a):\n",
    "    return cost(a,months=12,\n",
    "                premium = 598.32,\n",
    "                deductable = 2250,\n",
    "                maximum = 3500,\n",
    "                rate = 0.10)\n",
    "def blue_choice(a):\n",
    "    return cost(a,months=12,\n",
    "                premium = 703.38,\n",
    "                deductable = 0,\n",
    "                maximum = 9900,\n",
    "                rate = 0)\n",
    "def kaiser(a):\n",
    "    return cost(a,months=12,\n",
    "                premium = 535.60,\n",
    "                deductable = 0,\n",
    "                maximum = 12700,\n",
    "                rate = 0)   \n",
    "def reg_1_sick(a):\n",
    "    return cost(a,months=12,\n",
    "                premium = 598.32,\n",
    "                deductable = 750,\n",
    "                maximum = 1750,\n",
    "                rate = 0.10)\n",
    "def reg_2_sick(a):\n",
    "    return cost(a,months=12,\n",
    "                premium = 598.32,\n",
    "                deductable = 1500,\n",
    "                maximum = 3500,\n",
    "                rate = 0.10)"
   ]
  },
  {
   "cell_type": "code",
   "execution_count": 5,
   "metadata": {},
   "outputs": [
    {
     "name": "stdout",
     "output_type": "stream",
     "text": [
      "     amnt\t      HSA\tComprehensive\tHSA savings\tsavings + card\n",
      "$     0.00\t$  3360.24\t$  7179.84\t$  3819.60\t$  4569.60\n",
      "$  1000.00\t$  4360.24\t$  8179.84\t$  3819.60\t$  4569.60\n",
      "$  2000.00\t$  5360.24\t$  9179.84\t$  3819.60\t$  4569.60\n",
      "$  3000.00\t$  6360.24\t$  9504.84\t$  3144.60\t$  3894.60\n",
      "$  4000.00\t$  7360.24\t$  9604.84\t$  2244.60\t$  2994.60\n",
      "$  5000.00\t$  7880.24\t$  9704.84\t$  1824.60\t$  2574.60\n",
      "$  6000.00\t$  8080.24\t$  9804.84\t$  1724.60\t$  2474.60\n",
      "$  7000.00\t$  8280.24\t$  9904.84\t$  1624.60\t$  2374.60\n",
      "$  8000.00\t$  8480.24\t$ 10004.84\t$  1524.60\t$  2274.60\n",
      "$  9000.00\t$  8680.24\t$ 10104.84\t$  1424.60\t$  2174.60\n",
      "$ 10000.00\t$  8880.24\t$ 10204.84\t$  1324.60\t$  2074.60\n",
      "$ 11000.00\t$  9080.24\t$ 10304.84\t$  1224.60\t$  1974.60\n",
      "$ 12000.00\t$  9280.24\t$ 10404.84\t$  1124.60\t$  1874.60\n",
      "$ 13000.00\t$  9480.24\t$ 10504.84\t$  1024.60\t$  1774.60\n",
      "$ 14000.00\t$  9680.24\t$ 10604.84\t$   924.60\t$  1674.60\n",
      "$ 15000.00\t$  9880.24\t$ 10679.84\t$   799.60\t$  1549.60\n",
      "$ 16000.00\t$ 10080.24\t$ 10679.84\t$   599.60\t$  1349.60\n",
      "$ 17000.00\t$ 10280.24\t$ 10679.84\t$   399.60\t$  1149.60\n",
      "$ 18000.00\t$ 10480.24\t$ 10679.84\t$   199.60\t$   949.60\n",
      "$ 19000.00\t$ 10680.24\t$ 10679.84\t$    -0.40\t$   749.60\n",
      "$ 20000.00\t$ 10760.24\t$ 10679.84\t$   -80.40\t$   669.60\n",
      "$ 21000.00\t$ 10760.24\t$ 10679.84\t$   -80.40\t$   669.60\n",
      "$ 22000.00\t$ 10760.24\t$ 10679.84\t$   -80.40\t$   669.60\n",
      "$ 23000.00\t$ 10760.24\t$ 10679.84\t$   -80.40\t$   669.60\n",
      "$ 24000.00\t$ 10760.24\t$ 10679.84\t$   -80.40\t$   669.60\n"
     ]
    }
   ],
   "source": [
    "pt=\"%9s\\t%9s\\t%9s\\t%9s\\t%9s\"\n",
    "p=\"$%9.2f\\t$%9.2f\\t$%9.2f\\t$%9.2f\\t$%9.2f\"\n",
    "print(pt%(\"amnt\",\"HSA\",\"Comprehensive\",\"HSA savings\",\"savings + card\"))\n",
    "for a in range (0,25000,1000):\n",
    "    print (p%(a,hsa(a),regular(a),regular(a)-hsa(a),regular(a)-hsa(a)+750))"
   ]
  },
  {
   "cell_type": "code",
   "execution_count": 6,
   "metadata": {},
   "outputs": [
    {
     "name": "stdout",
     "output_type": "stream",
     "text": [
      "     amnt\t      HSA\tHSA savings\tsavings 1 sick\tsavings 2 sick\n",
      "$     0.00\t$  3360.24\t$  4569.60\t$  4569.60\t$  4569.60\n",
      "$  1000.00\t$  4360.24\t$  4569.60\t$  4344.60\t$  4569.60\n",
      "$  2000.00\t$  5360.24\t$  4569.60\t$  3444.60\t$  4119.60\n",
      "$  3000.00\t$  6360.24\t$  3894.60\t$  2544.60\t$  3219.60\n",
      "$  4000.00\t$  7360.24\t$  2994.60\t$  1644.60\t$  2319.60\n",
      "$  5000.00\t$  7880.24\t$  2574.60\t$  1224.60\t$  1899.60\n",
      "$  6000.00\t$  8080.24\t$  2474.60\t$  1124.60\t$  1799.60\n",
      "$  7000.00\t$  8280.24\t$  2374.60\t$  1024.60\t$  1699.60\n",
      "$  8000.00\t$  8480.24\t$  2274.60\t$   924.60\t$  1599.60\n",
      "$  9000.00\t$  8680.24\t$  2174.60\t$   824.60\t$  1499.60\n",
      "$ 10000.00\t$  8880.24\t$  2074.60\t$   724.60\t$  1399.60\n",
      "$ 11000.00\t$  9080.24\t$  1974.60\t$   599.60\t$  1299.60\n",
      "$ 12000.00\t$  9280.24\t$  1874.60\t$   399.60\t$  1199.60\n",
      "$ 13000.00\t$  9480.24\t$  1774.60\t$   199.60\t$  1099.60\n",
      "$ 14000.00\t$  9680.24\t$  1674.60\t$    -0.40\t$   999.60\n",
      "$ 15000.00\t$  9880.24\t$  1549.60\t$  -200.40\t$   899.60\n",
      "$ 16000.00\t$ 10080.24\t$  1349.60\t$  -400.40\t$   799.60\n",
      "$ 17000.00\t$ 10280.24\t$  1149.60\t$  -600.40\t$   699.60\n",
      "$ 18000.00\t$ 10480.24\t$   949.60\t$  -800.40\t$   599.60\n",
      "$ 19000.00\t$ 10680.24\t$   749.60\t$ -1000.40\t$   499.60\n",
      "$ 20000.00\t$ 10760.24\t$   669.60\t$ -1080.40\t$   519.60\n",
      "$ 21000.00\t$ 10760.24\t$   669.60\t$ -1080.40\t$   619.60\n",
      "$ 22000.00\t$ 10760.24\t$   669.60\t$ -1080.40\t$   669.60\n",
      "$ 23000.00\t$ 10760.24\t$   669.60\t$ -1080.40\t$   669.60\n",
      "$ 24000.00\t$ 10760.24\t$   669.60\t$ -1080.40\t$   669.60\n"
     ]
    }
   ],
   "source": [
    "pt=\"%9s\\t%9s\\t%9s\\t%9s\\t%9s\"\n",
    "p=\"$%9.2f\\t$%9.2f\\t$%9.2f\\t$%9.2f\\t$%9.2f\"\n",
    "print(pt%(\"amnt\",\"HSA\",\"HSA savings\",\"savings 1 sick\",\"savings 2 sick\"))\n",
    "for a in range (0,25000,1000):\n",
    "    print (p%(a,hsa(a),regular(a)-hsa(a)+750,reg_1_sick(a)-hsa(a)+750,reg_2_sick(a)-hsa(a)+750))"
   ]
  },
  {
   "cell_type": "code",
   "execution_count": 11,
   "metadata": {},
   "outputs": [
    {
     "name": "stdout",
     "output_type": "stream",
     "text": [
      "     amnt\tHSA w/ card\tComprehensive\tBlue Choice\t   Kaiser\n",
      "$     0.00\t$  2610.24\t$  7179.84\t$  8440.56\t$  6427.20\n",
      "$  1000.00\t$  3610.24\t$  8179.84\t$  8440.56\t$  6427.20\n",
      "$  2000.00\t$  4610.24\t$  9179.84\t$  8440.56\t$  6427.20\n",
      "$  3000.00\t$  5610.24\t$  9504.84\t$  8440.56\t$  6427.20\n",
      "$  4000.00\t$  6610.24\t$  9604.84\t$  8440.56\t$  6427.20\n",
      "$  5000.00\t$  7130.24\t$  9704.84\t$  8440.56\t$  6427.20\n",
      "$  6000.00\t$  7330.24\t$  9804.84\t$  8440.56\t$  6427.20\n",
      "$  7000.00\t$  7530.24\t$  9904.84\t$  8440.56\t$  6427.20\n",
      "$  8000.00\t$  7730.24\t$ 10004.84\t$  8440.56\t$  6427.20\n",
      "$  9000.00\t$  7930.24\t$ 10104.84\t$  8440.56\t$  6427.20\n",
      "$ 10000.00\t$  8130.24\t$ 10204.84\t$  8440.56\t$  6427.20\n",
      "$ 11000.00\t$  8330.24\t$ 10304.84\t$  8440.56\t$  6427.20\n",
      "$ 12000.00\t$  8530.24\t$ 10404.84\t$  8440.56\t$  6427.20\n",
      "$ 13000.00\t$  8730.24\t$ 10504.84\t$  8440.56\t$  6427.20\n",
      "$ 14000.00\t$  8930.24\t$ 10604.84\t$  8440.56\t$  6427.20\n",
      "$ 15000.00\t$  9130.24\t$ 10679.84\t$  8440.56\t$  6427.20\n",
      "$ 16000.00\t$  9330.24\t$ 10679.84\t$  8440.56\t$  6427.20\n",
      "$ 17000.00\t$  9530.24\t$ 10679.84\t$  8440.56\t$  6427.20\n",
      "$ 18000.00\t$  9730.24\t$ 10679.84\t$  8440.56\t$  6427.20\n",
      "$ 19000.00\t$  9930.24\t$ 10679.84\t$  8440.56\t$  6427.20\n",
      "$ 20000.00\t$ 10010.24\t$ 10679.84\t$  8440.56\t$  6427.20\n",
      "$ 21000.00\t$ 10010.24\t$ 10679.84\t$  8440.56\t$  6427.20\n",
      "$ 22000.00\t$ 10010.24\t$ 10679.84\t$  8440.56\t$  6427.20\n",
      "$ 23000.00\t$ 10010.24\t$ 10679.84\t$  8440.56\t$  6427.20\n",
      "$ 24000.00\t$ 10010.24\t$ 10679.84\t$  8440.56\t$  6427.20\n"
     ]
    }
   ],
   "source": [
    "pt=\"%9s\\t%9s\\t%9s\\t%9s\\t%9s\"\n",
    "p=\"$%9.2f\\t$%9.2f\\t$%9.2f\\t$%9.2f\\t$%9.2f\"\n",
    "print(pt%(\"amnt\",\"HSA w/ card\",\"Comprehensive\",\"Blue Choice\",\"Kaiser\"))\n",
    "for a in range (0,25000,1000):\n",
    "    print (p%(a,hsa(a)-750,regular(a),blue_choice(a),kaiser(a)))\n",
    "\n",
    "# Note: HMO co-pays are not taken into consideration on this table."
   ]
  },
  {
   "cell_type": "markdown",
   "metadata": {},
   "source": [
    "# 2020"
   ]
  },
  {
   "cell_type": "markdown",
   "metadata": {},
   "source": [
    "For Comprehensive Care:\n",
    "\n",
    "* For a number of items, there are copays and then 100% coverage after the copay, so how it will exactly fall out depends on what medical services are needed through the year. With HSA it's always 100\\% until deductible is met, and then 80\\%. With Comprehensive:\n",
    "    * Office visit is \\\\$20 copay (not subject to deductible)\n",
    "    * Health clinics \\\\$15 copay\n",
    "* For pharmacy, it also works with a copay, making it difficult to do a true comparison. Many medications are cheap, and some even under \\\\$5. But some are even over \\$100. With HSA it's always 100\\% until deductible is met, and then 80%. With Comprehensive:\n",
    "    * Generic: \\$15 copay\n",
    "    * Preferred Brand: 20\\% with \\\\$40 min and \\\\$100 max copay\n"
   ]
  },
  {
   "cell_type": "code",
   "execution_count": 3,
   "metadata": {},
   "outputs": [],
   "source": [
    "def cost(amount,months=12,premium=132,deductable=3000,maximum=3000,rate=0.15):\n",
    "    a = amount\n",
    "    t = months\n",
    "    p = premium\n",
    "    d = deductable\n",
    "    m = maximum\n",
    "    r = rate\n",
    "    base = t * p\n",
    "    if a < d:\n",
    "        c = a\n",
    "    else:\n",
    "        c = d + (a - d)*r \n",
    "        c = min(c,m)\n",
    "    return base + c"
   ]
  },
  {
   "cell_type": "code",
   "execution_count": 9,
   "metadata": {},
   "outputs": [],
   "source": [
    "def hsa(a):\n",
    "    return cost(a,months=12,\n",
    "                premium = 280.02,\n",
    "                deductable = 4400,\n",
    "                maximum = 7400,\n",
    "                rate = 0.20)\n",
    "\n",
    "def regular(a):\n",
    "    return cost(a,months=12,\n",
    "                premium = 598.32,\n",
    "                deductable = 2250,\n",
    "                maximum = 3500,\n",
    "                rate = 0.10)\n",
    "def blue_choice(a):\n",
    "    return cost(a,months=12,\n",
    "                premium = 703.38,\n",
    "                deductable = 0,\n",
    "                maximum = 9900,\n",
    "                rate = 0)\n",
    "def kaiser(a):\n",
    "    return cost(a,months=12,\n",
    "                premium = 535.60,\n",
    "                deductable = 0,\n",
    "                maximum = 12700,\n",
    "                rate = 0)   \n",
    "def reg_1_sick(a):\n",
    "    return cost(a,months=12,\n",
    "                premium = 598.32,\n",
    "                deductable = 750,\n",
    "                maximum = 1750,\n",
    "                rate = 0.10)\n",
    "def reg_2_sick(a):\n",
    "    return cost(a,months=12,\n",
    "                premium = 598.32,\n",
    "                deductable = 1500,\n",
    "                maximum = 3500,\n",
    "                rate = 0.10)"
   ]
  },
  {
   "cell_type": "code",
   "execution_count": 5,
   "metadata": {},
   "outputs": [
    {
     "name": "stdout",
     "output_type": "stream",
     "text": [
      "     amnt\t      HSA\tComprehensive\tHSA savings\tsavings + card\n",
      "$     0.00\t$  3360.24\t$  7179.84\t$  3819.60\t$  4569.60\n",
      "$  1000.00\t$  4360.24\t$  8179.84\t$  3819.60\t$  4569.60\n",
      "$  2000.00\t$  5360.24\t$  9179.84\t$  3819.60\t$  4569.60\n",
      "$  3000.00\t$  6360.24\t$  9504.84\t$  3144.60\t$  3894.60\n",
      "$  4000.00\t$  7360.24\t$  9604.84\t$  2244.60\t$  2994.60\n",
      "$  5000.00\t$  7880.24\t$  9704.84\t$  1824.60\t$  2574.60\n",
      "$  6000.00\t$  8080.24\t$  9804.84\t$  1724.60\t$  2474.60\n",
      "$  7000.00\t$  8280.24\t$  9904.84\t$  1624.60\t$  2374.60\n",
      "$  8000.00\t$  8480.24\t$ 10004.84\t$  1524.60\t$  2274.60\n",
      "$  9000.00\t$  8680.24\t$ 10104.84\t$  1424.60\t$  2174.60\n",
      "$ 10000.00\t$  8880.24\t$ 10204.84\t$  1324.60\t$  2074.60\n",
      "$ 11000.00\t$  9080.24\t$ 10304.84\t$  1224.60\t$  1974.60\n",
      "$ 12000.00\t$  9280.24\t$ 10404.84\t$  1124.60\t$  1874.60\n",
      "$ 13000.00\t$  9480.24\t$ 10504.84\t$  1024.60\t$  1774.60\n",
      "$ 14000.00\t$  9680.24\t$ 10604.84\t$   924.60\t$  1674.60\n",
      "$ 15000.00\t$  9880.24\t$ 10679.84\t$   799.60\t$  1549.60\n",
      "$ 16000.00\t$ 10080.24\t$ 10679.84\t$   599.60\t$  1349.60\n",
      "$ 17000.00\t$ 10280.24\t$ 10679.84\t$   399.60\t$  1149.60\n",
      "$ 18000.00\t$ 10480.24\t$ 10679.84\t$   199.60\t$   949.60\n",
      "$ 19000.00\t$ 10680.24\t$ 10679.84\t$    -0.40\t$   749.60\n",
      "$ 20000.00\t$ 10760.24\t$ 10679.84\t$   -80.40\t$   669.60\n",
      "$ 21000.00\t$ 10760.24\t$ 10679.84\t$   -80.40\t$   669.60\n",
      "$ 22000.00\t$ 10760.24\t$ 10679.84\t$   -80.40\t$   669.60\n",
      "$ 23000.00\t$ 10760.24\t$ 10679.84\t$   -80.40\t$   669.60\n",
      "$ 24000.00\t$ 10760.24\t$ 10679.84\t$   -80.40\t$   669.60\n"
     ]
    }
   ],
   "source": [
    "pt=\"%9s\\t%9s\\t%9s\\t%9s\\t%9s\"\n",
    "p=\"$%9.2f\\t$%9.2f\\t$%9.2f\\t$%9.2f\\t$%9.2f\"\n",
    "print(pt%(\"amnt\",\"HSA\",\"Comprehensive\",\"HSA savings\",\"savings + card\"))\n",
    "for a in range (0,25000,1000):\n",
    "    print (p%(a,hsa(a),regular(a),regular(a)-hsa(a),regular(a)-hsa(a)+750))"
   ]
  },
  {
   "cell_type": "code",
   "execution_count": 6,
   "metadata": {},
   "outputs": [
    {
     "name": "stdout",
     "output_type": "stream",
     "text": [
      "     amnt\t      HSA\tHSA savings\tsavings 1 sick\tsavings 2 sick\n",
      "$     0.00\t$  3360.24\t$  4569.60\t$  4569.60\t$  4569.60\n",
      "$  1000.00\t$  4360.24\t$  4569.60\t$  4344.60\t$  4569.60\n",
      "$  2000.00\t$  5360.24\t$  4569.60\t$  3444.60\t$  4119.60\n",
      "$  3000.00\t$  6360.24\t$  3894.60\t$  2544.60\t$  3219.60\n",
      "$  4000.00\t$  7360.24\t$  2994.60\t$  1644.60\t$  2319.60\n",
      "$  5000.00\t$  7880.24\t$  2574.60\t$  1224.60\t$  1899.60\n",
      "$  6000.00\t$  8080.24\t$  2474.60\t$  1124.60\t$  1799.60\n",
      "$  7000.00\t$  8280.24\t$  2374.60\t$  1024.60\t$  1699.60\n",
      "$  8000.00\t$  8480.24\t$  2274.60\t$   924.60\t$  1599.60\n",
      "$  9000.00\t$  8680.24\t$  2174.60\t$   824.60\t$  1499.60\n",
      "$ 10000.00\t$  8880.24\t$  2074.60\t$   724.60\t$  1399.60\n",
      "$ 11000.00\t$  9080.24\t$  1974.60\t$   599.60\t$  1299.60\n",
      "$ 12000.00\t$  9280.24\t$  1874.60\t$   399.60\t$  1199.60\n",
      "$ 13000.00\t$  9480.24\t$  1774.60\t$   199.60\t$  1099.60\n",
      "$ 14000.00\t$  9680.24\t$  1674.60\t$    -0.40\t$   999.60\n",
      "$ 15000.00\t$  9880.24\t$  1549.60\t$  -200.40\t$   899.60\n",
      "$ 16000.00\t$ 10080.24\t$  1349.60\t$  -400.40\t$   799.60\n",
      "$ 17000.00\t$ 10280.24\t$  1149.60\t$  -600.40\t$   699.60\n",
      "$ 18000.00\t$ 10480.24\t$   949.60\t$  -800.40\t$   599.60\n",
      "$ 19000.00\t$ 10680.24\t$   749.60\t$ -1000.40\t$   499.60\n",
      "$ 20000.00\t$ 10760.24\t$   669.60\t$ -1080.40\t$   519.60\n",
      "$ 21000.00\t$ 10760.24\t$   669.60\t$ -1080.40\t$   619.60\n",
      "$ 22000.00\t$ 10760.24\t$   669.60\t$ -1080.40\t$   669.60\n",
      "$ 23000.00\t$ 10760.24\t$   669.60\t$ -1080.40\t$   669.60\n",
      "$ 24000.00\t$ 10760.24\t$   669.60\t$ -1080.40\t$   669.60\n"
     ]
    }
   ],
   "source": [
    "pt=\"%9s\\t%9s\\t%9s\\t%9s\\t%9s\"\n",
    "p=\"$%9.2f\\t$%9.2f\\t$%9.2f\\t$%9.2f\\t$%9.2f\"\n",
    "print(pt%(\"amnt\",\"HSA\",\"HSA savings\",\"savings 1 sick\",\"savings 2 sick\"))\n",
    "for a in range (0,25000,1000):\n",
    "    print (p%(a,hsa(a),regular(a)-hsa(a)+750,reg_1_sick(a)-hsa(a)+750,reg_2_sick(a)-hsa(a)+750))"
   ]
  },
  {
   "cell_type": "code",
   "execution_count": 11,
   "metadata": {},
   "outputs": [
    {
     "name": "stdout",
     "output_type": "stream",
     "text": [
      "     amnt\tHSA w/ card\tComprehensive\tBlue Choice\t   Kaiser\n",
      "$     0.00\t$  2610.24\t$  7179.84\t$  8440.56\t$  6427.20\n",
      "$  1000.00\t$  3610.24\t$  8179.84\t$  8440.56\t$  6427.20\n",
      "$  2000.00\t$  4610.24\t$  9179.84\t$  8440.56\t$  6427.20\n",
      "$  3000.00\t$  5610.24\t$  9504.84\t$  8440.56\t$  6427.20\n",
      "$  4000.00\t$  6610.24\t$  9604.84\t$  8440.56\t$  6427.20\n",
      "$  5000.00\t$  7130.24\t$  9704.84\t$  8440.56\t$  6427.20\n",
      "$  6000.00\t$  7330.24\t$  9804.84\t$  8440.56\t$  6427.20\n",
      "$  7000.00\t$  7530.24\t$  9904.84\t$  8440.56\t$  6427.20\n",
      "$  8000.00\t$  7730.24\t$ 10004.84\t$  8440.56\t$  6427.20\n",
      "$  9000.00\t$  7930.24\t$ 10104.84\t$  8440.56\t$  6427.20\n",
      "$ 10000.00\t$  8130.24\t$ 10204.84\t$  8440.56\t$  6427.20\n",
      "$ 11000.00\t$  8330.24\t$ 10304.84\t$  8440.56\t$  6427.20\n",
      "$ 12000.00\t$  8530.24\t$ 10404.84\t$  8440.56\t$  6427.20\n",
      "$ 13000.00\t$  8730.24\t$ 10504.84\t$  8440.56\t$  6427.20\n",
      "$ 14000.00\t$  8930.24\t$ 10604.84\t$  8440.56\t$  6427.20\n",
      "$ 15000.00\t$  9130.24\t$ 10679.84\t$  8440.56\t$  6427.20\n",
      "$ 16000.00\t$  9330.24\t$ 10679.84\t$  8440.56\t$  6427.20\n",
      "$ 17000.00\t$  9530.24\t$ 10679.84\t$  8440.56\t$  6427.20\n",
      "$ 18000.00\t$  9730.24\t$ 10679.84\t$  8440.56\t$  6427.20\n",
      "$ 19000.00\t$  9930.24\t$ 10679.84\t$  8440.56\t$  6427.20\n",
      "$ 20000.00\t$ 10010.24\t$ 10679.84\t$  8440.56\t$  6427.20\n",
      "$ 21000.00\t$ 10010.24\t$ 10679.84\t$  8440.56\t$  6427.20\n",
      "$ 22000.00\t$ 10010.24\t$ 10679.84\t$  8440.56\t$  6427.20\n",
      "$ 23000.00\t$ 10010.24\t$ 10679.84\t$  8440.56\t$  6427.20\n",
      "$ 24000.00\t$ 10010.24\t$ 10679.84\t$  8440.56\t$  6427.20\n"
     ]
    }
   ],
   "source": [
    "pt=\"%9s\\t%9s\\t%9s\\t%9s\\t%9s\"\n",
    "p=\"$%9.2f\\t$%9.2f\\t$%9.2f\\t$%9.2f\\t$%9.2f\"\n",
    "print(pt%(\"amnt\",\"HSA w/ card\",\"Comprehensive\",\"Blue Choice\",\"Kaiser\"))\n",
    "for a in range (0,25000,1000):\n",
    "    print (p%(a,hsa(a)-750,regular(a),blue_choice(a),kaiser(a)))\n",
    "\n",
    "# Note: HMO co-pays are not taken into consideration on this table."
   ]
  },
  {
   "cell_type": "markdown",
   "metadata": {},
   "source": [
    "# 2019"
   ]
  },
  {
   "cell_type": "markdown",
   "metadata": {},
   "source": [
    "For Comprehensive Care:\n",
    "\n",
    "* For a number of items, there are copays and then 100% coverage after the copay, so how it will exactly fall out depends on exactly what medical services are needed through the year.\n",
    "* For pharmacy, it also works with a copay, making it difficult to do a true comparison. Many medications are cheap, and some even under \\$5. But some are even over \\$100.\n",
    "    * Generic: \\$15 copay\n",
    "    * Preferred Brand: \\$40 copay\n"
   ]
  },
  {
   "cell_type": "code",
   "execution_count": 6,
   "metadata": {},
   "outputs": [],
   "source": [
    "def cost(amount,months=12,premium=132,deductable=3000,maximum=3000,rate=0.15):\n",
    "    a = amount\n",
    "    t = months\n",
    "    p = premium\n",
    "    d = deductable\n",
    "    m = maximum\n",
    "    r = rate\n",
    "    base = t * p\n",
    "    if a < d:\n",
    "        c = a\n",
    "    else:\n",
    "        c = d + (a - d)*r \n",
    "        c = min(c,m)\n",
    "    return base + c"
   ]
  },
  {
   "cell_type": "code",
   "execution_count": 7,
   "metadata": {},
   "outputs": [],
   "source": [
    "def hsa(a):\n",
    "    return cost(a,months=12,\n",
    "                premium = 257.68,\n",
    "                deductable = 4400,\n",
    "                maximum = 7400,\n",
    "                rate = 0.20)\n",
    "\n",
    "def regular(a):\n",
    "    return cost(a,months=12,\n",
    "                premium = 554.46,\n",
    "                deductable = 2250,\n",
    "                maximum = 3500,\n",
    "                rate = 0.10)\n",
    "def reg_1_sick(a):\n",
    "    return cost(a,months=12,\n",
    "                premium = 554.46,\n",
    "                deductable = 750,\n",
    "                maximum = 1750,\n",
    "                rate = 0.10)\n",
    "def reg_2_sick(a):\n",
    "    return cost(a,months=12,\n",
    "                premium = 554.46,\n",
    "                deductable = 1500,\n",
    "                maximum = 3500,\n",
    "                rate = 0.10)"
   ]
  },
  {
   "cell_type": "code",
   "execution_count": 8,
   "metadata": {},
   "outputs": [
    {
     "name": "stdout",
     "output_type": "stream",
     "text": [
      "     amnt\t      HSA\tComprehensive\tHSA savings\tsavings + card\n",
      "$     0.00\t$  3092.16\t$  6653.52\t$  3561.36\t$  4311.36\n",
      "$  1000.00\t$  4092.16\t$  7653.52\t$  3561.36\t$  4311.36\n",
      "$  2000.00\t$  5092.16\t$  8653.52\t$  3561.36\t$  4311.36\n",
      "$  3000.00\t$  6092.16\t$  8978.52\t$  2886.36\t$  3636.36\n",
      "$  4000.00\t$  7092.16\t$  9078.52\t$  1986.36\t$  2736.36\n",
      "$  5000.00\t$  7612.16\t$  9178.52\t$  1566.36\t$  2316.36\n",
      "$  6000.00\t$  7812.16\t$  9278.52\t$  1466.36\t$  2216.36\n",
      "$  7000.00\t$  8012.16\t$  9378.52\t$  1366.36\t$  2116.36\n",
      "$  8000.00\t$  8212.16\t$  9478.52\t$  1266.36\t$  2016.36\n",
      "$  9000.00\t$  8412.16\t$  9578.52\t$  1166.36\t$  1916.36\n",
      "$ 10000.00\t$  8612.16\t$  9678.52\t$  1066.36\t$  1816.36\n",
      "$ 11000.00\t$  8812.16\t$  9778.52\t$   966.36\t$  1716.36\n",
      "$ 12000.00\t$  9012.16\t$  9878.52\t$   866.36\t$  1616.36\n",
      "$ 13000.00\t$  9212.16\t$  9978.52\t$   766.36\t$  1516.36\n",
      "$ 14000.00\t$  9412.16\t$ 10078.52\t$   666.36\t$  1416.36\n",
      "$ 15000.00\t$  9612.16\t$ 10153.52\t$   541.36\t$  1291.36\n",
      "$ 16000.00\t$  9812.16\t$ 10153.52\t$   341.36\t$  1091.36\n",
      "$ 17000.00\t$ 10012.16\t$ 10153.52\t$   141.36\t$   891.36\n",
      "$ 18000.00\t$ 10212.16\t$ 10153.52\t$   -58.64\t$   691.36\n",
      "$ 19000.00\t$ 10412.16\t$ 10153.52\t$  -258.64\t$   491.36\n",
      "$ 20000.00\t$ 10492.16\t$ 10153.52\t$  -338.64\t$   411.36\n",
      "$ 21000.00\t$ 10492.16\t$ 10153.52\t$  -338.64\t$   411.36\n",
      "$ 22000.00\t$ 10492.16\t$ 10153.52\t$  -338.64\t$   411.36\n",
      "$ 23000.00\t$ 10492.16\t$ 10153.52\t$  -338.64\t$   411.36\n",
      "$ 24000.00\t$ 10492.16\t$ 10153.52\t$  -338.64\t$   411.36\n"
     ]
    }
   ],
   "source": [
    "pt=\"%9s\\t%9s\\t%9s\\t%9s\\t%9s\"\n",
    "p=\"$%9.2f\\t$%9.2f\\t$%9.2f\\t$%9.2f\\t$%9.2f\"\n",
    "print(pt%(\"amnt\",\"HSA\",\"Comprehensive\",\"HSA savings\",\"savings + card\"))\n",
    "for a in range (0,25000,1000):\n",
    "    print (p%(a,hsa(a),regular(a),regular(a)-hsa(a),regular(a)-hsa(a)+750))"
   ]
  },
  {
   "cell_type": "code",
   "execution_count": 9,
   "metadata": {},
   "outputs": [
    {
     "name": "stdout",
     "output_type": "stream",
     "text": [
      "\n",
      "     amnt\t      HSA\tHSA savings\tsavings 1 sick\tsavings 2 sick\n",
      "$     0.00\t$  3092.16\t$  4311.36\t$  4311.36\t$  4311.36\n",
      "$  1000.00\t$  4092.16\t$  4311.36\t$  4086.36\t$  4311.36\n",
      "$  2000.00\t$  5092.16\t$  4311.36\t$  3186.36\t$  3861.36\n",
      "$  3000.00\t$  6092.16\t$  3636.36\t$  2286.36\t$  2961.36\n",
      "$  4000.00\t$  7092.16\t$  2736.36\t$  1386.36\t$  2061.36\n",
      "$  5000.00\t$  7612.16\t$  2316.36\t$   966.36\t$  1641.36\n",
      "$  6000.00\t$  7812.16\t$  2216.36\t$   866.36\t$  1541.36\n",
      "$  7000.00\t$  8012.16\t$  2116.36\t$   766.36\t$  1441.36\n",
      "$  8000.00\t$  8212.16\t$  2016.36\t$   666.36\t$  1341.36\n",
      "$  9000.00\t$  8412.16\t$  1916.36\t$   566.36\t$  1241.36\n",
      "$ 10000.00\t$  8612.16\t$  1816.36\t$   466.36\t$  1141.36\n",
      "$ 11000.00\t$  8812.16\t$  1716.36\t$   341.36\t$  1041.36\n",
      "$ 12000.00\t$  9012.16\t$  1616.36\t$   141.36\t$   941.36\n",
      "$ 13000.00\t$  9212.16\t$  1516.36\t$   -58.64\t$   841.36\n",
      "$ 14000.00\t$  9412.16\t$  1416.36\t$  -258.64\t$   741.36\n",
      "$ 15000.00\t$  9612.16\t$  1291.36\t$  -458.64\t$   641.36\n",
      "$ 16000.00\t$  9812.16\t$  1091.36\t$  -658.64\t$   541.36\n",
      "$ 17000.00\t$ 10012.16\t$   891.36\t$  -858.64\t$   441.36\n",
      "$ 18000.00\t$ 10212.16\t$   691.36\t$ -1058.64\t$   341.36\n",
      "$ 19000.00\t$ 10412.16\t$   491.36\t$ -1258.64\t$   241.36\n",
      "$ 20000.00\t$ 10492.16\t$   411.36\t$ -1338.64\t$   261.36\n",
      "$ 21000.00\t$ 10492.16\t$   411.36\t$ -1338.64\t$   361.36\n",
      "$ 22000.00\t$ 10492.16\t$   411.36\t$ -1338.64\t$   411.36\n",
      "$ 23000.00\t$ 10492.16\t$   411.36\t$ -1338.64\t$   411.36\n",
      "$ 24000.00\t$ 10492.16\t$   411.36\t$ -1338.64\t$   411.36\n"
     ]
    }
   ],
   "source": [
    "pt=\"%9s\\t%9s\\t%9s\\t%9s\\t%9s\"\n",
    "p=\"$%9.2f\\t$%9.2f\\t$%9.2f\\t$%9.2f\\t$%9.2f\"\n",
    "print(\"\")\n",
    "print(pt%(\"amnt\",\"HSA\",\"HSA savings\",\"savings 1 sick\",\"savings 2 sick\"))\n",
    "for a in range (0,25000,1000):\n",
    "    print (p%(a,hsa(a),regular(a)-hsa(a)+750,reg_1_sick(a)-hsa(a)+750,reg_2_sick(a)-hsa(a)+750))"
   ]
  },
  {
   "cell_type": "markdown",
   "metadata": {},
   "source": [
    "# 2018"
   ]
  },
  {
   "cell_type": "markdown",
   "metadata": {},
   "source": [
    "For Comprehensive Care:\n",
    "\n",
    "* Maternity Care is covered 90% after initial visit copayment of \\$20, not subject to deductible.\n",
    "* Maternity Delivery is covered 90% \n",
    "* Pharmacy:\n",
    "    * \\$25 copay generic\n",
    "    * \\$87.5 copay preferred brand\n",
    "    * 20% with \\$112.5 minimum and \\$250 max non preferred brand\n",
    "\n",
    "Questions:\n",
    "\n",
    "* What exactly is covered for maternity that is not subject to deductible? All the doctor visits? Not including delivery?\n",
    "* What does Maternity Delivery mean? Would she still hit her personal deductible?\n",
    "* Is it worth being on Consumer Choice if we know we will have a baby?"
   ]
  },
  {
   "cell_type": "code",
   "execution_count": 2,
   "metadata": {
    "collapsed": true,
    "jupyter": {
     "outputs_hidden": true
    }
   },
   "outputs": [],
   "source": [
    "def cost(amount,months=12,premium=132,deductable=3000,maximum=3000,rate=0.15):\n",
    "    a = amount\n",
    "    t = months\n",
    "    p = premium\n",
    "    d = deductable\n",
    "    m = maximum\n",
    "    r = rate\n",
    "    base = t * p\n",
    "    if a < d:\n",
    "        c = a\n",
    "    else:\n",
    "        c = d + (a - d)*r \n",
    "        c = min(c,m)\n",
    "    return base + c"
   ]
  },
  {
   "cell_type": "code",
   "execution_count": 3,
   "metadata": {
    "collapsed": true,
    "jupyter": {
     "outputs_hidden": true
    }
   },
   "outputs": [],
   "source": [
    "def hsa(a):\n",
    "    return cost(a,months=12,\n",
    "                premium = 247,\n",
    "                deductable = 4000,\n",
    "                maximum = 7000,\n",
    "                rate = 0.20)\n",
    "\n",
    "def regular(a):\n",
    "    return cost(a,months=12,\n",
    "                premium = 544,\n",
    "                deductable = 1500,\n",
    "                maximum = 3000,\n",
    "                rate = 0.10)\n",
    "def reg_1_sick(a):\n",
    "    return cost(a,months=12,\n",
    "                premium = 544,\n",
    "                deductable = 500,\n",
    "                maximum = 1500,\n",
    "                rate = 0.10)\n",
    "def reg_2_sick(a):\n",
    "    return cost(a,months=12,\n",
    "                premium = 544,\n",
    "                deductable = 1000,\n",
    "                maximum = 3000,\n",
    "                rate = 0.10)"
   ]
  },
  {
   "cell_type": "code",
   "execution_count": 4,
   "metadata": {},
   "outputs": [
    {
     "name": "stdout",
     "output_type": "stream",
     "text": [
      "     amnt\t      HSA\tComprehensive\tHSA savings\tsavings + card\n",
      "$     0.00\t$  2964.00\t$  6528.00\t$  3564.00\t$  4314.00\n",
      "$  1000.00\t$  3964.00\t$  7528.00\t$  3564.00\t$  4314.00\n",
      "$  2000.00\t$  4964.00\t$  8078.00\t$  3114.00\t$  3864.00\n",
      "$  3000.00\t$  5964.00\t$  8178.00\t$  2214.00\t$  2964.00\n",
      "$  4000.00\t$  6964.00\t$  8278.00\t$  1314.00\t$  2064.00\n",
      "$  5000.00\t$  7164.00\t$  8378.00\t$  1214.00\t$  1964.00\n",
      "$  6000.00\t$  7364.00\t$  8478.00\t$  1114.00\t$  1864.00\n",
      "$  7000.00\t$  7564.00\t$  8578.00\t$  1014.00\t$  1764.00\n",
      "$  8000.00\t$  7764.00\t$  8678.00\t$   914.00\t$  1664.00\n",
      "$  9000.00\t$  7964.00\t$  8778.00\t$   814.00\t$  1564.00\n",
      "$ 10000.00\t$  8164.00\t$  8878.00\t$   714.00\t$  1464.00\n",
      "$ 11000.00\t$  8364.00\t$  8978.00\t$   614.00\t$  1364.00\n",
      "$ 12000.00\t$  8564.00\t$  9078.00\t$   514.00\t$  1264.00\n",
      "$ 13000.00\t$  8764.00\t$  9178.00\t$   414.00\t$  1164.00\n",
      "$ 14000.00\t$  8964.00\t$  9278.00\t$   314.00\t$  1064.00\n",
      "$ 15000.00\t$  9164.00\t$  9378.00\t$   214.00\t$   964.00\n",
      "$ 16000.00\t$  9364.00\t$  9478.00\t$   114.00\t$   864.00\n",
      "$ 17000.00\t$  9564.00\t$  9528.00\t$   -36.00\t$   714.00\n",
      "$ 18000.00\t$  9764.00\t$  9528.00\t$  -236.00\t$   514.00\n",
      "$ 19000.00\t$  9964.00\t$  9528.00\t$  -436.00\t$   314.00\n",
      "$ 20000.00\t$  9964.00\t$  9528.00\t$  -436.00\t$   314.00\n",
      "$ 21000.00\t$  9964.00\t$  9528.00\t$  -436.00\t$   314.00\n",
      "$ 22000.00\t$  9964.00\t$  9528.00\t$  -436.00\t$   314.00\n",
      "$ 23000.00\t$  9964.00\t$  9528.00\t$  -436.00\t$   314.00\n",
      "$ 24000.00\t$  9964.00\t$  9528.00\t$  -436.00\t$   314.00\n"
     ]
    }
   ],
   "source": [
    "pt=\"%9s\\t%9s\\t%9s\\t%9s\\t%9s\"\n",
    "p=\"$%9.2f\\t$%9.2f\\t$%9.2f\\t$%9.2f\\t$%9.2f\"\n",
    "print(pt%(\"amnt\",\"HSA\",\"Comprehensive\",\"HSA savings\",\"savings + card\"))\n",
    "for a in range (0,25000,1000):\n",
    "    print (p%(a,hsa(a),regular(a),regular(a)-hsa(a),regular(a)-hsa(a)+750))"
   ]
  },
  {
   "cell_type": "code",
   "execution_count": 5,
   "metadata": {},
   "outputs": [
    {
     "name": "stdout",
     "output_type": "stream",
     "text": [
      "\n",
      "     amnt\t      HSA\tHSA savings\tsavings 1 sick\tsavings 2 sick\n",
      "$     0.00\t$  2964.00\t$  4314.00\t$  4314.00\t$  4314.00\n",
      "$  1000.00\t$  3964.00\t$  4314.00\t$  3864.00\t$  4314.00\n",
      "$  2000.00\t$  4964.00\t$  3864.00\t$  2964.00\t$  3414.00\n",
      "$  3000.00\t$  5964.00\t$  2964.00\t$  2064.00\t$  2514.00\n",
      "$  4000.00\t$  6964.00\t$  2064.00\t$  1164.00\t$  1614.00\n",
      "$  5000.00\t$  7164.00\t$  1964.00\t$  1064.00\t$  1514.00\n",
      "$  6000.00\t$  7364.00\t$  1864.00\t$   964.00\t$  1414.00\n",
      "$  7000.00\t$  7564.00\t$  1764.00\t$   864.00\t$  1314.00\n",
      "$  8000.00\t$  7764.00\t$  1664.00\t$   764.00\t$  1214.00\n",
      "$  9000.00\t$  7964.00\t$  1564.00\t$   664.00\t$  1114.00\n",
      "$ 10000.00\t$  8164.00\t$  1464.00\t$   564.00\t$  1014.00\n",
      "$ 11000.00\t$  8364.00\t$  1364.00\t$   414.00\t$   914.00\n",
      "$ 12000.00\t$  8564.00\t$  1264.00\t$   214.00\t$   814.00\n",
      "$ 13000.00\t$  8764.00\t$  1164.00\t$    14.00\t$   714.00\n",
      "$ 14000.00\t$  8964.00\t$  1064.00\t$  -186.00\t$   614.00\n",
      "$ 15000.00\t$  9164.00\t$   964.00\t$  -386.00\t$   514.00\n",
      "$ 16000.00\t$  9364.00\t$   864.00\t$  -586.00\t$   414.00\n",
      "$ 17000.00\t$  9564.00\t$   714.00\t$  -786.00\t$   314.00\n",
      "$ 18000.00\t$  9764.00\t$   514.00\t$  -986.00\t$   214.00\n",
      "$ 19000.00\t$  9964.00\t$   314.00\t$ -1186.00\t$   114.00\n",
      "$ 20000.00\t$  9964.00\t$   314.00\t$ -1186.00\t$   214.00\n",
      "$ 21000.00\t$  9964.00\t$   314.00\t$ -1186.00\t$   314.00\n",
      "$ 22000.00\t$  9964.00\t$   314.00\t$ -1186.00\t$   314.00\n",
      "$ 23000.00\t$  9964.00\t$   314.00\t$ -1186.00\t$   314.00\n",
      "$ 24000.00\t$  9964.00\t$   314.00\t$ -1186.00\t$   314.00\n"
     ]
    }
   ],
   "source": [
    "pt=\"%9s\\t%9s\\t%9s\\t%9s\\t%9s\"\n",
    "p=\"$%9.2f\\t$%9.2f\\t$%9.2f\\t$%9.2f\\t$%9.2f\"\n",
    "print(\"\")\n",
    "print(pt%(\"amnt\",\"HSA\",\"HSA savings\",\"savings 1 sick\",\"savings 2 sick\"))\n",
    "for a in range (0,25000,1000):\n",
    "    print (p%(a,hsa(a),regular(a)-hsa(a)+750,reg_1_sick(a)-hsa(a)+750,reg_2_sick(a)-hsa(a)+750))"
   ]
  },
  {
   "cell_type": "markdown",
   "metadata": {},
   "source": [
    "# 2017"
   ]
  },
  {
   "cell_type": "code",
   "execution_count": 11,
   "metadata": {
    "collapsed": true,
    "jupyter": {
     "outputs_hidden": true
    }
   },
   "outputs": [],
   "source": [
    "def cost(amount,months=12,premium=132,deductable=3000,maximum=3000,rate=0.15):\n",
    "    a = amount\n",
    "    t = months\n",
    "    p = premium\n",
    "    d = deductable\n",
    "    m = maximum\n",
    "    r = rate\n",
    "    base = t * p\n",
    "    if a < d:\n",
    "        c = a\n",
    "    else:\n",
    "        c = d + (a - d)*r \n",
    "        c = min(c,m)\n",
    "    return base + c"
   ]
  },
  {
   "cell_type": "code",
   "execution_count": 12,
   "metadata": {
    "collapsed": true,
    "jupyter": {
     "outputs_hidden": true
    }
   },
   "outputs": [],
   "source": [
    "def hsa(a):\n",
    "    return cost(a,months=12,\n",
    "                premium = 225,\n",
    "                deductable = 4000,\n",
    "                maximum = 7000,\n",
    "                rate = 0.20)\n",
    "\n",
    "def regular(a):\n",
    "    return cost(a,months=12,\n",
    "                premium = 537,\n",
    "                deductable = 1500,\n",
    "                maximum = 2500,\n",
    "                rate = 0.10)\n",
    "def reg_1_sick(a):\n",
    "    return cost(a,months=12,\n",
    "                premium = 537,\n",
    "                deductable = 500,\n",
    "                maximum = 1250,\n",
    "                rate = 0.10)\n",
    "def reg_2_sick(a):\n",
    "    return cost(a,months=12,\n",
    "                premium = 537,\n",
    "                deductable = 1000,\n",
    "                maximum = 2500,\n",
    "                rate = 0.10)"
   ]
  },
  {
   "cell_type": "code",
   "execution_count": 13,
   "metadata": {},
   "outputs": [
    {
     "name": "stdout",
     "output_type": "stream",
     "text": [
      "     amnt\t      HSA\tComprehensive\tHSA savings\tsavings + card\n",
      "$     0.00\t$  2700.00\t$  6444.00\t$  3744.00\t$  4494.00\n",
      "$  1000.00\t$  3700.00\t$  7444.00\t$  3744.00\t$  4494.00\n",
      "$  2000.00\t$  4700.00\t$  7994.00\t$  3294.00\t$  4044.00\n",
      "$  3000.00\t$  5700.00\t$  8094.00\t$  2394.00\t$  3144.00\n",
      "$  4000.00\t$  6700.00\t$  8194.00\t$  1494.00\t$  2244.00\n",
      "$  5000.00\t$  6900.00\t$  8294.00\t$  1394.00\t$  2144.00\n",
      "$  6000.00\t$  7100.00\t$  8394.00\t$  1294.00\t$  2044.00\n",
      "$  7000.00\t$  7300.00\t$  8494.00\t$  1194.00\t$  1944.00\n",
      "$  8000.00\t$  7500.00\t$  8594.00\t$  1094.00\t$  1844.00\n",
      "$  9000.00\t$  7700.00\t$  8694.00\t$   994.00\t$  1744.00\n",
      "$ 10000.00\t$  7900.00\t$  8794.00\t$   894.00\t$  1644.00\n",
      "$ 11000.00\t$  8100.00\t$  8894.00\t$   794.00\t$  1544.00\n",
      "$ 12000.00\t$  8300.00\t$  8944.00\t$   644.00\t$  1394.00\n",
      "$ 13000.00\t$  8500.00\t$  8944.00\t$   444.00\t$  1194.00\n",
      "$ 14000.00\t$  8700.00\t$  8944.00\t$   244.00\t$   994.00\n",
      "$ 15000.00\t$  8900.00\t$  8944.00\t$    44.00\t$   794.00\n",
      "$ 16000.00\t$  9100.00\t$  8944.00\t$  -156.00\t$   594.00\n",
      "$ 17000.00\t$  9300.00\t$  8944.00\t$  -356.00\t$   394.00\n",
      "$ 18000.00\t$  9500.00\t$  8944.00\t$  -556.00\t$   194.00\n",
      "$ 19000.00\t$  9700.00\t$  8944.00\t$  -756.00\t$    -6.00\n",
      "$ 20000.00\t$  9700.00\t$  8944.00\t$  -756.00\t$    -6.00\n",
      "$ 21000.00\t$  9700.00\t$  8944.00\t$  -756.00\t$    -6.00\n",
      "$ 22000.00\t$  9700.00\t$  8944.00\t$  -756.00\t$    -6.00\n",
      "$ 23000.00\t$  9700.00\t$  8944.00\t$  -756.00\t$    -6.00\n",
      "$ 24000.00\t$  9700.00\t$  8944.00\t$  -756.00\t$    -6.00\n"
     ]
    }
   ],
   "source": [
    "pt=\"%9s\\t%9s\\t%9s\\t%9s\\t%9s\"\n",
    "p=\"$%9.2f\\t$%9.2f\\t$%9.2f\\t$%9.2f\\t$%9.2f\"\n",
    "print(pt%(\"amnt\",\"HSA\",\"Comprehensive\",\"HSA savings\",\"savings + card\"))\n",
    "for a in range (0,25000,1000):\n",
    "    print (p%(a,hsa(a),regular(a),regular(a)-hsa(a),regular(a)-hsa(a)+750))"
   ]
  },
  {
   "cell_type": "code",
   "execution_count": 14,
   "metadata": {},
   "outputs": [
    {
     "name": "stdout",
     "output_type": "stream",
     "text": [
      "     amnt\t      HSA\tHSA savings\tsavings 1 sick\tsavings 2 sick\n",
      "$     0.00\t$  2700.00\t$  4494.00\t$  4494.00\t$  4494.00\n",
      "$  1000.00\t$  3700.00\t$  4494.00\t$  4044.00\t$  4494.00\n",
      "$  2000.00\t$  4700.00\t$  4044.00\t$  3144.00\t$  3594.00\n",
      "$  3000.00\t$  5700.00\t$  3144.00\t$  2244.00\t$  2694.00\n",
      "$  4000.00\t$  6700.00\t$  2244.00\t$  1344.00\t$  1794.00\n",
      "$  5000.00\t$  6900.00\t$  2144.00\t$  1244.00\t$  1694.00\n",
      "$  6000.00\t$  7100.00\t$  2044.00\t$  1144.00\t$  1594.00\n",
      "$  7000.00\t$  7300.00\t$  1944.00\t$  1044.00\t$  1494.00\n",
      "$  8000.00\t$  7500.00\t$  1844.00\t$   944.00\t$  1394.00\n",
      "$  9000.00\t$  7700.00\t$  1744.00\t$   744.00\t$  1294.00\n",
      "$ 10000.00\t$  7900.00\t$  1644.00\t$   544.00\t$  1194.00\n",
      "$ 11000.00\t$  8100.00\t$  1544.00\t$   344.00\t$  1094.00\n",
      "$ 12000.00\t$  8300.00\t$  1394.00\t$   144.00\t$   994.00\n",
      "$ 13000.00\t$  8500.00\t$  1194.00\t$   -56.00\t$   894.00\n",
      "$ 14000.00\t$  8700.00\t$   994.00\t$  -256.00\t$   794.00\n",
      "$ 15000.00\t$  8900.00\t$   794.00\t$  -456.00\t$   694.00\n",
      "$ 16000.00\t$  9100.00\t$   594.00\t$  -656.00\t$   594.00\n",
      "$ 17000.00\t$  9300.00\t$   394.00\t$  -856.00\t$   394.00\n",
      "$ 18000.00\t$  9500.00\t$   194.00\t$ -1056.00\t$   194.00\n",
      "$ 19000.00\t$  9700.00\t$    -6.00\t$ -1256.00\t$    -6.00\n",
      "$ 20000.00\t$  9700.00\t$    -6.00\t$ -1256.00\t$    -6.00\n",
      "$ 21000.00\t$  9700.00\t$    -6.00\t$ -1256.00\t$    -6.00\n",
      "$ 22000.00\t$  9700.00\t$    -6.00\t$ -1256.00\t$    -6.00\n",
      "$ 23000.00\t$  9700.00\t$    -6.00\t$ -1256.00\t$    -6.00\n",
      "$ 24000.00\t$  9700.00\t$    -6.00\t$ -1256.00\t$    -6.00\n"
     ]
    }
   ],
   "source": [
    "pt=\"%9s\\t%9s\\t%9s\\t%9s\\t%9s\"\n",
    "p=\"$%9.2f\\t$%9.2f\\t$%9.2f\\t$%9.2f\\t$%9.2f\"\n",
    "print(\"\")\n",
    "print(pt%(\"amnt\",\"HSA\",\"HSA savings\",\"savings 1 sick\",\"savings 2 sick\"))\n",
    "for a in range (0,25000,1000):\n",
    "    print (p%(a,hsa(a),regular(a)-hsa(a)+750,reg_1_sick(a)-hsa(a)+750,reg_2_sick(a)-hsa(a)+750))"
   ]
  },
  {
   "cell_type": "markdown",
   "metadata": {},
   "source": [
    "# 2016"
   ]
  },
  {
   "cell_type": "code",
   "execution_count": 1,
   "metadata": {
    "collapsed": true,
    "jupyter": {
     "outputs_hidden": true
    }
   },
   "outputs": [],
   "source": [
    "def cost(amount,months=12,premium=132,deductable=3000,maximum=3000,rate=0.15):\n",
    "    a = amount\n",
    "    t = months\n",
    "    p = premium\n",
    "    d = deductable\n",
    "    m = maximum\n",
    "    r = rate\n",
    "    base = t * p\n",
    "    if a < d:\n",
    "        c = a\n",
    "    else:\n",
    "        c = d + (a - d)*r \n",
    "        c = min(c,m)\n",
    "    return base + c"
   ]
  },
  {
   "cell_type": "markdown",
   "metadata": {},
   "source": [
    "Note: Regular has \\$500 deductable for each individual member, then plan pays at 90%.\n",
    "Regular also seems to have a copay for certain office visits and then pays 100%\n",
    "after the copay. It also seems to cover \"Maternity\" at 90% after a \\$20 copay visit, although I'm not\n",
    "quite sure what all that covers.\n"
   ]
  },
  {
   "cell_type": "code",
   "execution_count": 2,
   "metadata": {
    "collapsed": true,
    "jupyter": {
     "outputs_hidden": true
    }
   },
   "outputs": [],
   "source": [
    "def hsa(a):\n",
    "    return cost(a,months=12,\n",
    "                premium = 211,\n",
    "                deductable = 3000,\n",
    "                maximum = 6850,\n",
    "                rate = 0.20)\n",
    "\n",
    "def regular(a):\n",
    "    return cost(a,months=12,\n",
    "                premium = 501,\n",
    "                deductable = 1500,\n",
    "                maximum = 2500,\n",
    "                rate = 0.10)\n",
    "    "
   ]
  },
  {
   "cell_type": "code",
   "execution_count": 3,
   "metadata": {},
   "outputs": [
    {
     "name": "stdout",
     "output_type": "stream",
     "text": [
      "     amnt\t      HSA\tComprehensive\tHSA savings\tsavings + card\n",
      "$     0.00\t$  2532.00\t$  6012.00\t$  3480.00\t$  4230.00\n",
      "$  1000.00\t$  3532.00\t$  7012.00\t$  3480.00\t$  4230.00\n",
      "$  2000.00\t$  4532.00\t$  7562.00\t$  3030.00\t$  3780.00\n",
      "$  3000.00\t$  5532.00\t$  7662.00\t$  2130.00\t$  2880.00\n",
      "$  4000.00\t$  5732.00\t$  7762.00\t$  2030.00\t$  2780.00\n",
      "$  5000.00\t$  5932.00\t$  7862.00\t$  1930.00\t$  2680.00\n",
      "$  6000.00\t$  6132.00\t$  7962.00\t$  1830.00\t$  2580.00\n",
      "$  7000.00\t$  6332.00\t$  8062.00\t$  1730.00\t$  2480.00\n",
      "$  8000.00\t$  6532.00\t$  8162.00\t$  1630.00\t$  2380.00\n",
      "$  9000.00\t$  6732.00\t$  8262.00\t$  1530.00\t$  2280.00\n",
      "$ 10000.00\t$  6932.00\t$  8362.00\t$  1430.00\t$  2180.00\n",
      "$ 11000.00\t$  7132.00\t$  8462.00\t$  1330.00\t$  2080.00\n",
      "$ 12000.00\t$  7332.00\t$  8512.00\t$  1180.00\t$  1930.00\n",
      "$ 13000.00\t$  7532.00\t$  8512.00\t$   980.00\t$  1730.00\n",
      "$ 14000.00\t$  7732.00\t$  8512.00\t$   780.00\t$  1530.00\n",
      "$ 15000.00\t$  7932.00\t$  8512.00\t$   580.00\t$  1330.00\n",
      "$ 16000.00\t$  8132.00\t$  8512.00\t$   380.00\t$  1130.00\n",
      "$ 17000.00\t$  8332.00\t$  8512.00\t$   180.00\t$   930.00\n",
      "$ 18000.00\t$  8532.00\t$  8512.00\t$   -20.00\t$   730.00\n",
      "$ 19000.00\t$  8732.00\t$  8512.00\t$  -220.00\t$   530.00\n",
      "$ 20000.00\t$  8932.00\t$  8512.00\t$  -420.00\t$   330.00\n",
      "$ 21000.00\t$  9132.00\t$  8512.00\t$  -620.00\t$   130.00\n",
      "$ 22000.00\t$  9332.00\t$  8512.00\t$  -820.00\t$   -70.00\n",
      "$ 23000.00\t$  9382.00\t$  8512.00\t$  -870.00\t$  -120.00\n",
      "$ 24000.00\t$  9382.00\t$  8512.00\t$  -870.00\t$  -120.00\n"
     ]
    }
   ],
   "source": [
    "pt=\"%9s\\t%9s\\t%9s\\t%9s\\t%9s\"\n",
    "p=\"$%9.2f\\t$%9.2f\\t$%9.2f\\t$%9.2f\\t$%9.2f\"\n",
    "print(pt%(\"amnt\",\"HSA\",\"Comprehensive\",\"HSA savings\",\"savings + card\"))\n",
    "for a in range (0,25000,1000):\n",
    "    print (p%(a,hsa(a),regular(a),regular(a)-hsa(a),regular(a)-hsa(a)+750))"
   ]
  },
  {
   "cell_type": "markdown",
   "metadata": {},
   "source": [
    "# 2015"
   ]
  },
  {
   "cell_type": "code",
   "execution_count": 4,
   "metadata": {},
   "outputs": [
    {
     "name": "stdout",
     "output_type": "stream",
     "text": [
      "     amnt\t      HSA\tComprehensive\tHSA savings\tsavings + card\n",
      "$     0.00\t$  2112.00\t$  5904.00\t$  3792.00\t$  4542.00\n",
      "$  1000.00\t$  3112.00\t$  6904.00\t$  3792.00\t$  4542.00\n",
      "$  2000.00\t$  4112.00\t$  7454.00\t$  3342.00\t$  4092.00\n",
      "$  3000.00\t$  5112.00\t$  7554.00\t$  2442.00\t$  3192.00\n",
      "$  4000.00\t$  5312.00\t$  7654.00\t$  2342.00\t$  3092.00\n",
      "$  5000.00\t$  5512.00\t$  7754.00\t$  2242.00\t$  2992.00\n",
      "$  6000.00\t$  5712.00\t$  7854.00\t$  2142.00\t$  2892.00\n",
      "$  7000.00\t$  5912.00\t$  7954.00\t$  2042.00\t$  2792.00\n",
      "$  8000.00\t$  6112.00\t$  8054.00\t$  1942.00\t$  2692.00\n",
      "$  9000.00\t$  6312.00\t$  8154.00\t$  1842.00\t$  2592.00\n",
      "$ 10000.00\t$  6512.00\t$  8254.00\t$  1742.00\t$  2492.00\n",
      "$ 11000.00\t$  6712.00\t$  8354.00\t$  1642.00\t$  2392.00\n",
      "$ 12000.00\t$  6912.00\t$  8404.00\t$  1492.00\t$  2242.00\n",
      "$ 13000.00\t$  7112.00\t$  8404.00\t$  1292.00\t$  2042.00\n",
      "$ 14000.00\t$  7312.00\t$  8404.00\t$  1092.00\t$  1842.00\n",
      "$ 15000.00\t$  7512.00\t$  8404.00\t$   892.00\t$  1642.00\n",
      "$ 16000.00\t$  7712.00\t$  8404.00\t$   692.00\t$  1442.00\n",
      "$ 17000.00\t$  7912.00\t$  8404.00\t$   492.00\t$  1242.00\n",
      "$ 18000.00\t$  8112.00\t$  8404.00\t$   292.00\t$  1042.00\n",
      "$ 19000.00\t$  8312.00\t$  8404.00\t$    92.00\t$   842.00\n",
      "$ 20000.00\t$  8512.00\t$  8404.00\t$  -108.00\t$   642.00\n",
      "$ 21000.00\t$  8712.00\t$  8404.00\t$  -308.00\t$   442.00\n",
      "$ 22000.00\t$  8912.00\t$  8404.00\t$  -508.00\t$   242.00\n",
      "$ 23000.00\t$  9112.00\t$  8404.00\t$  -708.00\t$    42.00\n"
     ]
    }
   ],
   "source": [
    "def cost(amount,months=12,premium=132,deductable=3000,maximum=3000,rate=0.15):\n",
    "    t = months\n",
    "    p = premium\n",
    "    d = deductable\n",
    "    m = maximum\n",
    "    r = rate\n",
    "    a = amount\n",
    "    base = t * p\n",
    "    if a < d:\n",
    "        c = a\n",
    "    else:\n",
    "        c = d + (a - d)*r \n",
    "        c = min(c,m)\n",
    "    return base + c\n",
    "\n",
    "def hsa(a):\n",
    "    return cost(a,months=12,\n",
    "                premium = 176,\n",
    "                deductable = 3000,\n",
    "                maximum = 7000,\n",
    "                rate = 0.20)\n",
    "\n",
    "def regular(a):\n",
    "    return cost(a,months=12,\n",
    "                premium = 492,\n",
    "                deductable = 1500,\n",
    "                maximum = 2500,\n",
    "                rate = 0.10)\n",
    "    \n",
    "\n",
    "pt=\"%9s\\t%9s\\t%9s\\t%9s\\t%9s\"\n",
    "p=\"$%9.2f\\t$%9.2f\\t$%9.2f\\t$%9.2f\\t$%9.2f\"\n",
    "print (pt%(\"amnt\",\"HSA\",\"Comprehensive\",\"HSA savings\",\"savings + card\"))\n",
    "for a in range (0,24000,1000):\n",
    "    print (p%(a,hsa(a),regular(a),regular(a)-hsa(a),regular(a)-hsa(a)+750))\n"
   ]
  },
  {
   "cell_type": "markdown",
   "metadata": {},
   "source": [
    "# 2014"
   ]
  },
  {
   "cell_type": "code",
   "execution_count": 5,
   "metadata": {},
   "outputs": [
    {
     "name": "stdout",
     "output_type": "stream",
     "text": [
      " amnt\tHSA12\t BC12\t HSA7\t  BC7\n",
      "    0\t 1584\t 6384\t  924\t 3724\n",
      " 1000\t 2584\t 7294\t 1924\t 4634\n",
      " 2000\t 3584\t 7394\t 2924\t 4734\n",
      " 3000\t 4584\t 7494\t 3924\t 4834\n",
      " 4000\t 4734\t 7594\t 4074\t 4934\n",
      " 5000\t 4884\t 7694\t 4224\t 5034\n",
      " 6000\t 5034\t 7794\t 4374\t 5134\n",
      " 7000\t 5184\t 7894\t 4524\t 5234\n",
      " 8000\t 5334\t 7994\t 4674\t 5334\n",
      " 9000\t 5484\t 8094\t 4824\t 5434\n",
      "10000\t 5634\t 8194\t 4974\t 5534\n",
      "11000\t 5784\t 8294\t 5124\t 5634\n",
      "12000\t 5934\t 8384\t 5274\t 5724\n",
      "13000\t 6084\t 8384\t 5424\t 5724\n",
      "14000\t 6234\t 8384\t 5574\t 5724\n",
      "15000\t 6384\t 8384\t 5724\t 5724\n",
      "16000\t 6534\t 8384\t 5874\t 5724\n",
      "17000\t 6684\t 8384\t 6024\t 5724\n",
      "18000\t 6834\t 8384\t 6174\t 5724\n",
      "19000\t 6984\t 8384\t 6324\t 5724\n",
      "20000\t 7134\t 8384\t 6474\t 5724\n",
      "21000\t 7284\t 8384\t 6624\t 5724\n",
      "22000\t 7434\t 8384\t 6774\t 5724\n",
      "23000\t 7584\t 8384\t 6924\t 5724\n"
     ]
    }
   ],
   "source": [
    "def cost(amount,months=12,premium=132,deductable=3000,maximum=6000,rate=0.15):\n",
    "    t = months\n",
    "    p = premium\n",
    "    d = deductable\n",
    "    m = maximum\n",
    "    r = rate\n",
    "    a = amount\n",
    "    base = t * p\n",
    "    if a < d:\n",
    "        c = a\n",
    "    else:\n",
    "        c = d + (a - d)*r \n",
    "        c = min(c,m)\n",
    "    return base + c\n",
    "\n",
    "def hsa(a,months=12):\n",
    "    return cost(a,months=months,\n",
    "                premium = 132,\n",
    "                deductable = 3000,\n",
    "                maximum = 6000,\n",
    "                rate = 0.15)\n",
    "\n",
    "def regular(a,months=12):\n",
    "    return cost(a,months=months,\n",
    "                premium = 532,\n",
    "                deductable = 900,\n",
    "                maximum = 2000,\n",
    "                rate = 0.10)\n",
    "    \n",
    "\n",
    "pt=\"%5s\\t%5s\\t%5s\\t%5s\\t%5s\"\n",
    "p=\"%5d\\t%5d\\t%5d\\t%5d\\t%5d\"\n",
    "print (pt%(\"amnt\",\"HSA12\",\"BC12\",\"HSA7\",\"BC7\"))\n",
    "for a in range (0,24000,1000):\n",
    "    print (p%(a,hsa(a),regular(a),hsa(a,7),regular(a,7)))\n"
   ]
  },
  {
   "cell_type": "code",
   "execution_count": null,
   "metadata": {
    "collapsed": true,
    "jupyter": {
     "outputs_hidden": true
    }
   },
   "outputs": [],
   "source": []
  }
 ],
 "metadata": {
  "anaconda-cloud": {},
  "kernelspec": {
   "display_name": "Python 3 (ipykernel)",
   "language": "python",
   "name": "python3"
  },
  "language_info": {
   "codemirror_mode": {
    "name": "ipython",
    "version": 3
   },
   "file_extension": ".py",
   "mimetype": "text/x-python",
   "name": "python",
   "nbconvert_exporter": "python",
   "pygments_lexer": "ipython3",
   "version": "3.9.12"
  }
 },
 "nbformat": 4,
 "nbformat_minor": 4
}
