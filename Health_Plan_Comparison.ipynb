{
 "cells": [
  {
   "cell_type": "markdown",
   "metadata": {},
   "source": [
    "This is a comparison of Consumer Choice HSA and Comprehensive Care"
   ]
  },
  {
   "cell_type": "markdown",
   "metadata": {},
   "source": [
    "## 2016"
   ]
  },
  {
   "cell_type": "code",
   "execution_count": 1,
   "metadata": {
    "collapsed": true
   },
   "outputs": [],
   "source": [
    "def cost(amount,months=12,premium=132,deductable=3000,maximum=3000,rate=0.15):\n",
    "    a = amount\n",
    "    t = months\n",
    "    p = premium\n",
    "    d = deductable\n",
    "    m = maximum\n",
    "    r = rate\n",
    "    base = t * p\n",
    "    if a < d:\n",
    "        c = a\n",
    "    else:\n",
    "        c = d + (a - d)*r \n",
    "        c = min(c,m)\n",
    "    return base + c"
   ]
  },
  {
   "cell_type": "markdown",
   "metadata": {},
   "source": [
    "Note: Regular has \\$500 deductable for each individual member, then plan pays at 90%.\n",
    "Regular also seems to have a copay for certain office visits and then pays 100%\n",
    "after the copay. It also seems to cover \"Maternity\" at 90% after a \\$20 copay visit, although I'm not\n",
    "quite sure what all that covers.\n"
   ]
  },
  {
   "cell_type": "code",
   "execution_count": 2,
   "metadata": {
    "collapsed": true
   },
   "outputs": [],
   "source": [
    "def hsa(a):\n",
    "    return cost(a,months=12,\n",
    "                premium = 211,\n",
    "                deductable = 3000,\n",
    "                maximum = 6850,\n",
    "                rate = 0.20)\n",
    "\n",
    "def regular(a):\n",
    "    return cost(a,months=12,\n",
    "                premium = 501,\n",
    "                deductable = 1500,\n",
    "                maximum = 2500,\n",
    "                rate = 0.10)\n",
    "    "
   ]
  },
  {
   "cell_type": "code",
   "execution_count": 3,
   "metadata": {
    "collapsed": false
   },
   "outputs": [
    {
     "name": "stdout",
     "output_type": "stream",
     "text": [
      "     amnt\t      HSA\tComprehensive\tHSA savings\tsavings + card\n",
      "$     0.00\t$  2532.00\t$  6012.00\t$  3480.00\t$  4230.00\n",
      "$  1000.00\t$  3532.00\t$  7012.00\t$  3480.00\t$  4230.00\n",
      "$  2000.00\t$  4532.00\t$  7562.00\t$  3030.00\t$  3780.00\n",
      "$  3000.00\t$  5532.00\t$  7662.00\t$  2130.00\t$  2880.00\n",
      "$  4000.00\t$  5732.00\t$  7762.00\t$  2030.00\t$  2780.00\n",
      "$  5000.00\t$  5932.00\t$  7862.00\t$  1930.00\t$  2680.00\n",
      "$  6000.00\t$  6132.00\t$  7962.00\t$  1830.00\t$  2580.00\n",
      "$  7000.00\t$  6332.00\t$  8062.00\t$  1730.00\t$  2480.00\n",
      "$  8000.00\t$  6532.00\t$  8162.00\t$  1630.00\t$  2380.00\n",
      "$  9000.00\t$  6732.00\t$  8262.00\t$  1530.00\t$  2280.00\n",
      "$ 10000.00\t$  6932.00\t$  8362.00\t$  1430.00\t$  2180.00\n",
      "$ 11000.00\t$  7132.00\t$  8462.00\t$  1330.00\t$  2080.00\n",
      "$ 12000.00\t$  7332.00\t$  8512.00\t$  1180.00\t$  1930.00\n",
      "$ 13000.00\t$  7532.00\t$  8512.00\t$   980.00\t$  1730.00\n",
      "$ 14000.00\t$  7732.00\t$  8512.00\t$   780.00\t$  1530.00\n",
      "$ 15000.00\t$  7932.00\t$  8512.00\t$   580.00\t$  1330.00\n",
      "$ 16000.00\t$  8132.00\t$  8512.00\t$   380.00\t$  1130.00\n",
      "$ 17000.00\t$  8332.00\t$  8512.00\t$   180.00\t$   930.00\n",
      "$ 18000.00\t$  8532.00\t$  8512.00\t$   -20.00\t$   730.00\n",
      "$ 19000.00\t$  8732.00\t$  8512.00\t$  -220.00\t$   530.00\n",
      "$ 20000.00\t$  8932.00\t$  8512.00\t$  -420.00\t$   330.00\n",
      "$ 21000.00\t$  9132.00\t$  8512.00\t$  -620.00\t$   130.00\n",
      "$ 22000.00\t$  9332.00\t$  8512.00\t$  -820.00\t$   -70.00\n",
      "$ 23000.00\t$  9382.00\t$  8512.00\t$  -870.00\t$  -120.00\n",
      "$ 24000.00\t$  9382.00\t$  8512.00\t$  -870.00\t$  -120.00\n"
     ]
    }
   ],
   "source": [
    "pt=\"%9s\\t%9s\\t%9s\\t%9s\\t%9s\"\n",
    "p=\"$%9.2f\\t$%9.2f\\t$%9.2f\\t$%9.2f\\t$%9.2f\"\n",
    "print(pt%(\"amnt\",\"HSA\",\"Comprehensive\",\"HSA savings\",\"savings + card\"))\n",
    "for a in range (0,25000,1000):\n",
    "    print (p%(a,hsa(a),regular(a),regular(a)-hsa(a),regular(a)-hsa(a)+750))"
   ]
  },
  {
   "cell_type": "markdown",
   "metadata": {},
   "source": [
    "## 2015"
   ]
  },
  {
   "cell_type": "code",
   "execution_count": 4,
   "metadata": {
    "collapsed": false
   },
   "outputs": [
    {
     "name": "stdout",
     "output_type": "stream",
     "text": [
      "     amnt\t      HSA\tComprehensive\tHSA savings\tsavings + card\n",
      "$     0.00\t$  2112.00\t$  5904.00\t$  3792.00\t$  4542.00\n",
      "$  1000.00\t$  3112.00\t$  6904.00\t$  3792.00\t$  4542.00\n",
      "$  2000.00\t$  4112.00\t$  7454.00\t$  3342.00\t$  4092.00\n",
      "$  3000.00\t$  5112.00\t$  7554.00\t$  2442.00\t$  3192.00\n",
      "$  4000.00\t$  5312.00\t$  7654.00\t$  2342.00\t$  3092.00\n",
      "$  5000.00\t$  5512.00\t$  7754.00\t$  2242.00\t$  2992.00\n",
      "$  6000.00\t$  5712.00\t$  7854.00\t$  2142.00\t$  2892.00\n",
      "$  7000.00\t$  5912.00\t$  7954.00\t$  2042.00\t$  2792.00\n",
      "$  8000.00\t$  6112.00\t$  8054.00\t$  1942.00\t$  2692.00\n",
      "$  9000.00\t$  6312.00\t$  8154.00\t$  1842.00\t$  2592.00\n",
      "$ 10000.00\t$  6512.00\t$  8254.00\t$  1742.00\t$  2492.00\n",
      "$ 11000.00\t$  6712.00\t$  8354.00\t$  1642.00\t$  2392.00\n",
      "$ 12000.00\t$  6912.00\t$  8404.00\t$  1492.00\t$  2242.00\n",
      "$ 13000.00\t$  7112.00\t$  8404.00\t$  1292.00\t$  2042.00\n",
      "$ 14000.00\t$  7312.00\t$  8404.00\t$  1092.00\t$  1842.00\n",
      "$ 15000.00\t$  7512.00\t$  8404.00\t$   892.00\t$  1642.00\n",
      "$ 16000.00\t$  7712.00\t$  8404.00\t$   692.00\t$  1442.00\n",
      "$ 17000.00\t$  7912.00\t$  8404.00\t$   492.00\t$  1242.00\n",
      "$ 18000.00\t$  8112.00\t$  8404.00\t$   292.00\t$  1042.00\n",
      "$ 19000.00\t$  8312.00\t$  8404.00\t$    92.00\t$   842.00\n",
      "$ 20000.00\t$  8512.00\t$  8404.00\t$  -108.00\t$   642.00\n",
      "$ 21000.00\t$  8712.00\t$  8404.00\t$  -308.00\t$   442.00\n",
      "$ 22000.00\t$  8912.00\t$  8404.00\t$  -508.00\t$   242.00\n",
      "$ 23000.00\t$  9112.00\t$  8404.00\t$  -708.00\t$    42.00\n"
     ]
    }
   ],
   "source": [
    "def cost(amount,months=12,premium=132,deductable=3000,maximum=3000,rate=0.15):\n",
    "    t = months\n",
    "    p = premium\n",
    "    d = deductable\n",
    "    m = maximum\n",
    "    r = rate\n",
    "    a = amount\n",
    "    base = t * p\n",
    "    if a < d:\n",
    "        c = a\n",
    "    else:\n",
    "        c = d + (a - d)*r \n",
    "        c = min(c,m)\n",
    "    return base + c\n",
    "\n",
    "def hsa(a):\n",
    "    return cost(a,months=12,\n",
    "                premium = 176,\n",
    "                deductable = 3000,\n",
    "                maximum = 7000,\n",
    "                rate = 0.20)\n",
    "\n",
    "def regular(a):\n",
    "    return cost(a,months=12,\n",
    "                premium = 492,\n",
    "                deductable = 1500,\n",
    "                maximum = 2500,\n",
    "                rate = 0.10)\n",
    "    \n",
    "\n",
    "pt=\"%9s\\t%9s\\t%9s\\t%9s\\t%9s\"\n",
    "p=\"$%9.2f\\t$%9.2f\\t$%9.2f\\t$%9.2f\\t$%9.2f\"\n",
    "print (pt%(\"amnt\",\"HSA\",\"Comprehensive\",\"HSA savings\",\"savings + card\"))\n",
    "for a in range (0,24000,1000):\n",
    "    print (p%(a,hsa(a),regular(a),regular(a)-hsa(a),regular(a)-hsa(a)+750))\n"
   ]
  },
  {
   "cell_type": "markdown",
   "metadata": {
    "collapsed": false
   },
   "source": [
    "## 2014"
   ]
  },
  {
   "cell_type": "code",
   "execution_count": 5,
   "metadata": {
    "collapsed": false
   },
   "outputs": [
    {
     "name": "stdout",
     "output_type": "stream",
     "text": [
      " amnt\tHSA12\t BC12\t HSA7\t  BC7\n",
      "    0\t 1584\t 6384\t  924\t 3724\n",
      " 1000\t 2584\t 7294\t 1924\t 4634\n",
      " 2000\t 3584\t 7394\t 2924\t 4734\n",
      " 3000\t 4584\t 7494\t 3924\t 4834\n",
      " 4000\t 4734\t 7594\t 4074\t 4934\n",
      " 5000\t 4884\t 7694\t 4224\t 5034\n",
      " 6000\t 5034\t 7794\t 4374\t 5134\n",
      " 7000\t 5184\t 7894\t 4524\t 5234\n",
      " 8000\t 5334\t 7994\t 4674\t 5334\n",
      " 9000\t 5484\t 8094\t 4824\t 5434\n",
      "10000\t 5634\t 8194\t 4974\t 5534\n",
      "11000\t 5784\t 8294\t 5124\t 5634\n",
      "12000\t 5934\t 8384\t 5274\t 5724\n",
      "13000\t 6084\t 8384\t 5424\t 5724\n",
      "14000\t 6234\t 8384\t 5574\t 5724\n",
      "15000\t 6384\t 8384\t 5724\t 5724\n",
      "16000\t 6534\t 8384\t 5874\t 5724\n",
      "17000\t 6684\t 8384\t 6024\t 5724\n",
      "18000\t 6834\t 8384\t 6174\t 5724\n",
      "19000\t 6984\t 8384\t 6324\t 5724\n",
      "20000\t 7134\t 8384\t 6474\t 5724\n",
      "21000\t 7284\t 8384\t 6624\t 5724\n",
      "22000\t 7434\t 8384\t 6774\t 5724\n",
      "23000\t 7584\t 8384\t 6924\t 5724\n"
     ]
    }
   ],
   "source": [
    "def cost(amount,months=12,premium=132,deductable=3000,maximum=6000,rate=0.15):\n",
    "    t = months\n",
    "    p = premium\n",
    "    d = deductable\n",
    "    m = maximum\n",
    "    r = rate\n",
    "    a = amount\n",
    "    base = t * p\n",
    "    if a < d:\n",
    "        c = a\n",
    "    else:\n",
    "        c = d + (a - d)*r \n",
    "        c = min(c,m)\n",
    "    return base + c\n",
    "\n",
    "def hsa(a,months=12):\n",
    "    return cost(a,months=months,\n",
    "                premium = 132,\n",
    "                deductable = 3000,\n",
    "                maximum = 6000,\n",
    "                rate = 0.15)\n",
    "\n",
    "def regular(a,months=12):\n",
    "    return cost(a,months=months,\n",
    "                premium = 532,\n",
    "                deductable = 900,\n",
    "                maximum = 2000,\n",
    "                rate = 0.10)\n",
    "    \n",
    "\n",
    "pt=\"%5s\\t%5s\\t%5s\\t%5s\\t%5s\"\n",
    "p=\"%5d\\t%5d\\t%5d\\t%5d\\t%5d\"\n",
    "print (pt%(\"amnt\",\"HSA12\",\"BC12\",\"HSA7\",\"BC7\"))\n",
    "for a in range (0,24000,1000):\n",
    "    print (p%(a,hsa(a),regular(a),hsa(a,7),regular(a,7)))\n"
   ]
  },
  {
   "cell_type": "code",
   "execution_count": null,
   "metadata": {
    "collapsed": true
   },
   "outputs": [],
   "source": []
  }
 ],
 "metadata": {
  "kernelspec": {
   "display_name": "Python 3",
   "language": "python",
   "name": "python3"
  },
  "language_info": {
   "codemirror_mode": {
    "name": "ipython",
    "version": 3
   },
   "file_extension": ".py",
   "mimetype": "text/x-python",
   "name": "python",
   "nbconvert_exporter": "python",
   "pygments_lexer": "ipython3",
   "version": "3.5.1"
  }
 },
 "nbformat": 4,
 "nbformat_minor": 0
}
